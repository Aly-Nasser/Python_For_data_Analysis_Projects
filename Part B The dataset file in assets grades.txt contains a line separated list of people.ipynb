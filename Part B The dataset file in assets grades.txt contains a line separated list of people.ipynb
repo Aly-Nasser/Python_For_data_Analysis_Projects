{
 "cells": [
  {
   "cell_type": "markdown",
   "id": "8251b64a",
   "metadata": {},
   "source": [
    "# Part B\n",
    "The dataset file in assets/grades.txt contains a line separated list of people with their grade in a class. Create a regex to generate a list of just those students who received a B in the course."
   ]
  },
  {
   "cell_type": "code",
   "execution_count": null,
   "id": "9bed2f18",
   "metadata": {},
   "outputs": [],
   "source": [
    "import re\n",
    "def grades():\n",
    "    with open (\"assets/grades.txt\", \"r\") as file:\n",
    "        grades = file.read()\n",
    "\n",
    "    selution2 = re.findall('([\\w ]*)\\:\\sB',grades)\n",
    "    return selution2\n",
    "grades()"
   ]
  }
 ],
 "metadata": {
  "kernelspec": {
   "display_name": "Python 3 (ipykernel)",
   "language": "python",
   "name": "python3"
  },
  "language_info": {
   "codemirror_mode": {
    "name": "ipython",
    "version": 3
   },
   "file_extension": ".py",
   "mimetype": "text/x-python",
   "name": "python",
   "nbconvert_exporter": "python",
   "pygments_lexer": "ipython3",
   "version": "3.9.7"
  }
 },
 "nbformat": 4,
 "nbformat_minor": 5
}
