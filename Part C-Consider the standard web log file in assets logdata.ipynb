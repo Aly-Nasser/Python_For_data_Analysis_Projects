{
 "cells": [
  {
   "cell_type": "markdown",
   "id": "9151ed0e",
   "metadata": {},
   "source": [
    "# Part C\n",
    "Consider the standard web log file in assets/logdata.txt. This file records the access a user makes when visiting a web page (like this one!). Each line of the log has the following items:"
   ]
  },
  {
   "cell_type": "markdown",
   "id": "46a0a677",
   "metadata": {},
   "source": [
    "- a host (e.g., '146.204.224.152')\n",
    "- a user_name (e.g., 'feest6811' note: sometimes the user name is missing! In this case, use '-' as the value for the username.)\n",
    "- the time a request was made (e.g., '21/Jun/2019:15:45:24 -0700')\n",
    "- the post request type (e.g., 'POST /incentivize HTTP/1.1' note: not everything is a POST!)\n",
    "\n",
    "Your task is to convert this into a list of dictionaries, where each dictionary looks like the following:\n",
    "\n",
    "    example_dict = {\"host\":\"146.204.224.152\", \n",
    "                    \"user_name\":\"feest6811\", \n",
    "                    \"time\":\"21/Jun/2019:15:45:24 -0700\",\n",
    "                    \"request\":\"POST /incentivize HTTP/1.1\"}"
   ]
  },
  {
   "cell_type": "code",
   "execution_count": 4,
   "id": "4860af75",
   "metadata": {},
   "outputs": [],
   "source": [
    "import re\n",
    "def logs():\n",
    "    \n",
    "    lst = []\n",
    "    with open(\"new.txt\", \"r\") as file:\n",
    "        logdata = file.read()\n",
    "\n",
    "    pattern = \"\"\"(?P<host>[\\d+\\.]*)\\ - (?P<user_name>[\\w\\d|-]*)\\s\\[(?P<time>[\\d\\w+\\/\\d+:]* -\\d+)\\] \\\"(?P<request>\\w+ [\\/ \\w\\-\\.\\d\\+\\%]*)\"\"\"\n",
    "        \n",
    "    for items in re.finditer(pattern,logdata):\n",
    "        lst.append(items.groupdict())\n",
    "    return lst"
   ]
  },
  {
   "cell_type": "code",
   "execution_count": 5,
   "id": "586f46be",
   "metadata": {},
   "outputs": [
    {
     "name": "stdout",
     "output_type": "stream",
     "text": [
      "979\n"
     ]
    }
   ],
   "source": [
    "print(len(logs()))"
   ]
  },
  {
   "cell_type": "code",
   "execution_count": 6,
   "id": "51dc5fc5",
   "metadata": {},
   "outputs": [
    {
     "data": {
      "text/plain": [
       "{'host': '197.109.77.178',\n",
       " 'user_name': 'kertzmann3129',\n",
       " 'time': '21/Jun/2019:15:45:25 -0700',\n",
       " 'request': 'DELETE /virtual/solutions/target/web+services HTTP/2.0'}"
      ]
     },
     "execution_count": 6,
     "metadata": {},
     "output_type": "execute_result"
    }
   ],
   "source": [
    "logs()[1]"
   ]
  },
  {
   "cell_type": "code",
   "execution_count": null,
   "id": "bf7e502d",
   "metadata": {},
   "outputs": [],
   "source": [
    "assert len(logs()) == 979\n",
    "\n",
    "one_item={'host': '146.204.224.152',\n",
    "  'user_name': 'feest6811',\n",
    "  'time': '21/Jun/2019:15:45:24 -0700',\n",
    "  'request': 'POST /incentivize HTTP/1.1'}\n",
    "assert one_item in logs(), \"Sorry, this item should be in the log results, check your formating\""
   ]
  }
 ],
 "metadata": {
  "kernelspec": {
   "display_name": "Python 3 (ipykernel)",
   "language": "python",
   "name": "python3"
  },
  "language_info": {
   "codemirror_mode": {
    "name": "ipython",
    "version": 3
   },
   "file_extension": ".py",
   "mimetype": "text/x-python",
   "name": "python",
   "nbconvert_exporter": "python",
   "pygments_lexer": "ipython3",
   "version": "3.9.7"
  }
 },
 "nbformat": 4,
 "nbformat_minor": 5
}
