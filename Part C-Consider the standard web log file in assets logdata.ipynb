{
 "cells": [
  {
   "cell_type": "code",
   "execution_count": null,
   "id": "93204018",
   "metadata": {},
   "outputs": [],
   "source": [
    "import re\n",
    "def logs():\n",
    "    \n",
    "    lst = []\n",
    "    with open(\"assets/logdata.txt\", \"r\") as file:\n",
    "        logdata = file.read()\n",
    "\n",
    "    pattern = \"\"\"(?P<host>[\\d+\\.]*)\\ - (?P<user_name>[\\w\\d|-]*)\\s\\[(?P<time>[\\d\\w+\\/\\d+:]* -\\d+)\\] \\\"(?P<request>\\w+ [\\/ \\w\\-\\.\\d\\+\\%]*)\"\"\"\n",
    "        \n",
    "    for items in re.finditer(pattern,logdata):\n",
    "        lst.append(items.groupdict())\n",
    "    return lst"
   ]
  },
  {
   "cell_type": "code",
   "execution_count": null,
   "id": "2eee31eb",
   "metadata": {},
   "outputs": [],
   "source": [
    "print(len(logs()))"
   ]
  },
  {
   "cell_type": "code",
   "execution_count": null,
   "id": "b29a0601",
   "metadata": {},
   "outputs": [],
   "source": [
    "logs()[1]"
   ]
  },
  {
   "cell_type": "code",
   "execution_count": null,
   "id": "fbbf0500",
   "metadata": {},
   "outputs": [],
   "source": [
    "assert len(logs()) == 979\n",
    "\n",
    "one_item={'host': '146.204.224.152',\n",
    "  'user_name': 'feest6811',\n",
    "  'time': '21/Jun/2019:15:45:24 -0700',\n",
    "  'request': 'POST /incentivize HTTP/1.1'}\n",
    "assert one_item in logs(), \"Sorry, this item should be in the log results, check your formating\""
   ]
  }
 ],
 "metadata": {
  "kernelspec": {
   "display_name": "Python 3 (ipykernel)",
   "language": "python",
   "name": "python3"
  },
  "language_info": {
   "codemirror_mode": {
    "name": "ipython",
    "version": 3
   },
   "file_extension": ".py",
   "mimetype": "text/x-python",
   "name": "python",
   "nbconvert_exporter": "python",
   "pygments_lexer": "ipython3",
   "version": "3.9.7"
  }
 },
 "nbformat": 4,
 "nbformat_minor": 5
}
